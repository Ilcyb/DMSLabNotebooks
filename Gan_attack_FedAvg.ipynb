{
  "nbformat": 4,
  "nbformat_minor": 0,
  "metadata": {
    "colab": {
      "name": "Gan attack FedAvg.ipynb",
      "provenance": [],
      "collapsed_sections": [],
      "authorship_tag": "ABX9TyMC6Bcm5fuz+sCicRkiknPY",
      "include_colab_link": true
    },
    "kernelspec": {
      "name": "python3",
      "display_name": "Python 3"
    },
    "accelerator": "GPU"
  },
  "cells": [
    {
      "cell_type": "markdown",
      "metadata": {
        "id": "view-in-github",
        "colab_type": "text"
      },
      "source": [
        "<a href=\"https://colab.research.google.com/github/Ilcyb/DMSLabNotebooks/blob/main/Gan_attack_FedAvg.ipynb\" target=\"_parent\"><img src=\"https://colab.research.google.com/assets/colab-badge.svg\" alt=\"Open In Colab\"/></a>"
      ]
    },
    {
      "cell_type": "code",
      "metadata": {
        "id": "MUyF1XfJWcxT",
        "outputId": "530941a8-df45-4c56-b537-07c132a9dfb8",
        "colab": {
          "base_uri": "https://localhost:8080/"
        }
      },
      "source": [
        "!nvidia-smi"
      ],
      "execution_count": null,
      "outputs": [
        {
          "output_type": "stream",
          "text": [
            "Wed Nov 11 08:09:06 2020       \n",
            "+-----------------------------------------------------------------------------+\n",
            "| NVIDIA-SMI 455.32.00    Driver Version: 418.67       CUDA Version: 10.1     |\n",
            "|-------------------------------+----------------------+----------------------+\n",
            "| GPU  Name        Persistence-M| Bus-Id        Disp.A | Volatile Uncorr. ECC |\n",
            "| Fan  Temp  Perf  Pwr:Usage/Cap|         Memory-Usage | GPU-Util  Compute M. |\n",
            "|                               |                      |               MIG M. |\n",
            "|===============================+======================+======================|\n",
            "|   0  Tesla T4            Off  | 00000000:00:04.0 Off |                    0 |\n",
            "| N/A   44C    P8     9W /  70W |      0MiB / 15079MiB |      0%      Default |\n",
            "|                               |                      |                 ERR! |\n",
            "+-------------------------------+----------------------+----------------------+\n",
            "                                                                               \n",
            "+-----------------------------------------------------------------------------+\n",
            "| Processes:                                                                  |\n",
            "|  GPU   GI   CI        PID   Type   Process name                  GPU Memory |\n",
            "|        ID   ID                                                   Usage      |\n",
            "|=============================================================================|\n",
            "|  No running processes found                                                 |\n",
            "+-----------------------------------------------------------------------------+\n"
          ],
          "name": "stdout"
        }
      ]
    },
    {
      "cell_type": "code",
      "metadata": {
        "id": "FoyrM3BcQ606",
        "outputId": "d4fd5c97-7521-4d42-eedc-984218ad0f6a",
        "colab": {
          "base_uri": "https://localhost:8080/"
        }
      },
      "source": [
        "!git clone https://github.com/Ilcyb/Federated-Learning-PyTorch.git\n",
        "%cd Federated-Learning-PyTorch"
      ],
      "execution_count": null,
      "outputs": [
        {
          "output_type": "stream",
          "text": [
            "Cloning into 'Federated-Learning-PyTorch'...\n",
            "remote: Enumerating objects: 67, done.\u001b[K\n",
            "remote: Counting objects: 100% (67/67), done.\u001b[K\n",
            "remote: Compressing objects: 100% (27/27), done.\u001b[K\n",
            "remote: Total 323 (delta 43), reused 58 (delta 38), pack-reused 256\u001b[K\n",
            "Receiving objects: 100% (323/323), 232.23 KiB | 19.35 MiB/s, done.\n",
            "Resolving deltas: 100% (175/175), done.\n",
            "/content/Federated-Learning-PyTorch\n"
          ],
          "name": "stdout"
        }
      ]
    },
    {
      "cell_type": "code",
      "metadata": {
        "id": "WQndl4uTRvNL",
        "outputId": "2e04c6b6-92ff-4605-fdff-2dca0bfc0418",
        "colab": {
          "base_uri": "https://localhost:8080/"
        }
      },
      "source": [
        "# IID数据实验\n",
        "# !git checkout remotes/origin/ganattack_iid\n",
        "# !pip3 install tensorboardX==1.4 tqdm==4.50.2\n",
        "!python src/serverattack_main.py --model=dcgan --dataset=mnist --gpu=0  --epochs=20 --num_users=10 --frac=1 --local_ep=1 --wanted_label_index=8 --local_gan_epoch=50"
      ],
      "execution_count": null,
      "outputs": [
        {
          "output_type": "stream",
          "text": [
            "\n",
            "Experimental details:\n",
            "    Model     : dcgan\n",
            "    Optimizer : sgd\n",
            "    Learning  : 0.01\n",
            "    Global Rounds   : 20\n",
            "\n",
            "    Federated parameters:\n",
            "    IID\n",
            "    Fraction of users  : 1.0\n",
            "    Local Batch size   : 10\n",
            "    Local Epochs       : 1\n",
            "\n",
            "  0% 0/20 [00:00<?, ?it/s]\n",
            " | Global Training Round : 1 |\n",
            "\n",
            "/content/Federated-Learning-PyTorch/src/update.py:29: UserWarning: To copy construct from a tensor, it is recommended to use sourceTensor.clone().detach() or sourceTensor.clone().detach().requires_grad_(True), rather than torch.tensor(sourceTensor).\n",
            "  return torch.tensor(image), torch.tensor(label)\n",
            "/usr/local/lib/python3.6/dist-packages/torch/nn/modules/container.py:117: UserWarning: Implicit dimension choice for log_softmax has been deprecated. Change the call to include dim=X as an argument.\n",
            "  input = module(input)\n",
            "  5% 1/20 [00:23<07:25, 23.43s/it]\n",
            " | Global Training Round : 2 |\n",
            "\n",
            " \n",
            "Avg Training Stats after 2 global rounds:\n",
            "Training Loss : 0.6479459894186584\n",
            "Train Accuracy: 93.43% \n",
            "\n",
            " 10% 2/20 [00:46<06:59, 23.31s/it]\n",
            " | Global Training Round : 3 |\n",
            "\n",
            " 15% 3/20 [01:08<06:32, 23.07s/it]\n",
            " | Global Training Round : 4 |\n",
            "\n",
            " \n",
            "Avg Training Stats after 4 global rounds:\n",
            "Training Loss : 0.4098797773669745\n",
            "Train Accuracy: 95.82% \n",
            "\n",
            " 20% 4/20 [01:31<06:06, 22.89s/it]\n",
            " | Global Training Round : 5 |\n",
            "\n",
            " 25% 5/20 [01:54<05:43, 22.87s/it]\n",
            " | Global Training Round : 6 |\n",
            "\n",
            " \n",
            "Avg Training Stats after 6 global rounds:\n",
            "Training Loss : 0.31178101181527174\n",
            "Train Accuracy: 96.78% \n",
            "\n",
            " 30% 6/20 [02:16<05:18, 22.78s/it]\n",
            " | Global Training Round : 7 |\n",
            "\n",
            " 35% 7/20 [02:38<04:52, 22.53s/it]\n",
            " | Global Training Round : 8 |\n",
            "\n",
            " \n",
            "Avg Training Stats after 8 global rounds:\n",
            "Training Loss : 0.2564509447325478\n",
            "Train Accuracy: 97.35% \n",
            "\n",
            " 40% 8/20 [03:01<04:29, 22.49s/it]\n",
            " | Global Training Round : 9 |\n",
            "\n",
            " 45% 9/20 [03:24<04:08, 22.60s/it]\n",
            " | Global Training Round : 10 |\n",
            "\n",
            " \n",
            "Avg Training Stats after 10 global rounds:\n",
            "Training Loss : 0.22014743891878846\n",
            "Train Accuracy: 97.50% \n",
            "\n",
            " 50% 10/20 [03:46<03:46, 22.60s/it]\n",
            " | Global Training Round : 11 |\n",
            "\n",
            " 55% 11/20 [04:08<03:22, 22.45s/it]\n",
            " | Global Training Round : 12 |\n",
            "\n",
            " \n",
            "Avg Training Stats after 12 global rounds:\n",
            "Training Loss : 0.19419907182112284\n",
            "Train Accuracy: 97.93% \n",
            "\n",
            " 60% 12/20 [04:31<03:00, 22.52s/it]\n",
            " | Global Training Round : 13 |\n",
            "\n",
            " 65% 13/20 [04:53<02:36, 22.40s/it]\n",
            " | Global Training Round : 14 |\n",
            "\n",
            " \n",
            "Avg Training Stats after 14 global rounds:\n",
            "Training Loss : 0.17459295537519295\n",
            "Train Accuracy: 98.07% \n",
            "\n",
            " 70% 14/20 [05:15<02:14, 22.35s/it]\n",
            " | Global Training Round : 15 |\n",
            "\n",
            " 75% 15/20 [05:38<01:51, 22.34s/it]\n",
            " | Global Training Round : 16 |\n",
            "\n",
            " \n",
            "Avg Training Stats after 16 global rounds:\n",
            "Training Loss : 0.15907733182030825\n",
            "Train Accuracy: 98.27% \n",
            "\n",
            " 80% 16/20 [05:59<01:28, 22.11s/it]\n",
            " | Global Training Round : 17 |\n",
            "\n",
            " 85% 17/20 [06:21<01:05, 21.93s/it]\n",
            " | Global Training Round : 18 |\n",
            "\n",
            " \n",
            "Avg Training Stats after 18 global rounds:\n",
            "Training Loss : 0.14646262989000547\n",
            "Train Accuracy: 98.35% \n",
            "\n",
            " 90% 18/20 [06:43<00:43, 21.98s/it]\n",
            " | Global Training Round : 19 |\n",
            "\n",
            " 95% 19/20 [07:05<00:21, 21.93s/it]\n",
            " | Global Training Round : 20 |\n",
            "\n",
            " \n",
            "Avg Training Stats after 20 global rounds:\n",
            "Training Loss : 0.1359704742136743\n",
            "Train Accuracy: 98.42% \n",
            "\n",
            "100% 20/20 [07:27<00:00, 22.38s/it]\n",
            "fake images shape:torch.Size([1, 28, 28])\n",
            " \n",
            " Results after 20 global rounds of training:\n",
            "|---- Avg Train Accuracy: 98.42%\n",
            "|---- Test Accuracy: 98.63%\n",
            "\n",
            " Total Run Time: 453.9663\n"
          ],
          "name": "stdout"
        }
      ]
    }
  ]
}